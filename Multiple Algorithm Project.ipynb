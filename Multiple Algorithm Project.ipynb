{
 "cells": [
  {
   "cell_type": "code",
   "execution_count": 1,
   "metadata": {},
   "outputs": [
    {
     "name": "stdout",
     "output_type": "stream",
     "text": [
      "<class 'pandas.core.frame.DataFrame'>\n",
      "RangeIndex: 200000 entries, 0 to 199999\n",
      "Data columns (total 11 columns):\n",
      " #   Column          Non-Null Count   Dtype  \n",
      "---  ------          --------------   -----  \n",
      " 0   step            200000 non-null  int64  \n",
      " 1   type            200000 non-null  object \n",
      " 2   amount          200000 non-null  float64\n",
      " 3   nameOrig        200000 non-null  object \n",
      " 4   oldbalanceOrg   200000 non-null  float64\n",
      " 5   newbalanceOrig  200000 non-null  float64\n",
      " 6   nameDest        200000 non-null  object \n",
      " 7   oldbalanceDest  200000 non-null  float64\n",
      " 8   newbalanceDest  200000 non-null  float64\n",
      " 9   isFraud         200000 non-null  int64  \n",
      " 10  isFlaggedFraud  200000 non-null  int64  \n",
      "dtypes: float64(5), int64(3), object(3)\n",
      "memory usage: 16.8+ MB\n"
     ]
    }
   ],
   "source": [
    "import pandas as pd\n",
    "from sklearn.model_selection import train_test_split\n",
    "from sklearn.ensemble import RandomForestClassifier\n",
    "from sklearn.linear_model import LogisticRegression\n",
    "from xgboost import XGBClassifier\n",
    "from sklearn.metrics import accuracy_score, classification_report\n",
    "\n",
    "# Explanation:\n",
    "# This program is designed to detect fraudulent health insurance claims using machine learning.\n",
    "# We use the PaySim1 dataset, which simulates financial transactions, to train a fraud detection model.\n",
    "# The model helps insurance companies identify potential fraud and prevent financial losses.\n",
    "\n",
    "\n",
    "df = pd.read_csv(r\"C:\\Users\\lenovo\\Downloads\\archive\\PS_20174392719_1491204439457_log.csv\")\n",
    "\n",
    "# Keep only 30,000 rows, delete the rest\n",
    "df = df.sample(n=200000, random_state=42).reset_index(drop=True)\n",
    "\n",
    "# Display dataset info\n",
    "df.info()\n",
    "\n"
   ]
  },
  {
   "cell_type": "code",
   "execution_count": 2,
   "metadata": {},
   "outputs": [],
   "source": [
    "# Select relevant columns for fraud detection\n",
    "features = ['step', 'amount', 'oldbalanceOrg', 'newbalanceOrig', 'oldbalanceDest', 'newbalanceDest']\n",
    "target = 'isFraud'\n",
    "\n",
    "# Splitting the dataset into training and testing sets\n",
    "X = df[features]\n",
    "y = df[target]\n",
    "X_train, X_test, y_train, y_test = train_test_split(X, y, test_size=0.2, random_state=42)\n",
    "\n"
   ]
  },
  {
   "cell_type": "code",
   "execution_count": 3,
   "metadata": {},
   "outputs": [
    {
     "data": {
      "text/html": [
       "<div>\n",
       "<style scoped>\n",
       "    .dataframe tbody tr th:only-of-type {\n",
       "        vertical-align: middle;\n",
       "    }\n",
       "\n",
       "    .dataframe tbody tr th {\n",
       "        vertical-align: top;\n",
       "    }\n",
       "\n",
       "    .dataframe thead th {\n",
       "        text-align: right;\n",
       "    }\n",
       "</style>\n",
       "<table border=\"1\" class=\"dataframe\">\n",
       "  <thead>\n",
       "    <tr style=\"text-align: right;\">\n",
       "      <th></th>\n",
       "      <th>step</th>\n",
       "      <th>type</th>\n",
       "      <th>amount</th>\n",
       "      <th>nameOrig</th>\n",
       "      <th>oldbalanceOrg</th>\n",
       "      <th>newbalanceOrig</th>\n",
       "      <th>nameDest</th>\n",
       "      <th>oldbalanceDest</th>\n",
       "      <th>newbalanceDest</th>\n",
       "      <th>isFraud</th>\n",
       "      <th>isFlaggedFraud</th>\n",
       "    </tr>\n",
       "  </thead>\n",
       "  <tbody>\n",
       "    <tr>\n",
       "      <th>0</th>\n",
       "      <td>278</td>\n",
       "      <td>CASH_IN</td>\n",
       "      <td>330218.42</td>\n",
       "      <td>C632336343</td>\n",
       "      <td>20866.00</td>\n",
       "      <td>351084.42</td>\n",
       "      <td>C834976624</td>\n",
       "      <td>452419.57</td>\n",
       "      <td>122201.15</td>\n",
       "      <td>0</td>\n",
       "      <td>0</td>\n",
       "    </tr>\n",
       "    <tr>\n",
       "      <th>1</th>\n",
       "      <td>15</td>\n",
       "      <td>PAYMENT</td>\n",
       "      <td>11647.08</td>\n",
       "      <td>C1264712553</td>\n",
       "      <td>30370.00</td>\n",
       "      <td>18722.92</td>\n",
       "      <td>M215391829</td>\n",
       "      <td>0.00</td>\n",
       "      <td>0.00</td>\n",
       "      <td>0</td>\n",
       "      <td>0</td>\n",
       "    </tr>\n",
       "    <tr>\n",
       "      <th>2</th>\n",
       "      <td>10</td>\n",
       "      <td>CASH_IN</td>\n",
       "      <td>152264.21</td>\n",
       "      <td>C1746846248</td>\n",
       "      <td>106589.00</td>\n",
       "      <td>258853.21</td>\n",
       "      <td>C1607284477</td>\n",
       "      <td>201303.01</td>\n",
       "      <td>49038.80</td>\n",
       "      <td>0</td>\n",
       "      <td>0</td>\n",
       "    </tr>\n",
       "    <tr>\n",
       "      <th>3</th>\n",
       "      <td>403</td>\n",
       "      <td>TRANSFER</td>\n",
       "      <td>1551760.63</td>\n",
       "      <td>C333676753</td>\n",
       "      <td>0.00</td>\n",
       "      <td>0.00</td>\n",
       "      <td>C1564353608</td>\n",
       "      <td>3198359.45</td>\n",
       "      <td>4750120.08</td>\n",
       "      <td>0</td>\n",
       "      <td>0</td>\n",
       "    </tr>\n",
       "    <tr>\n",
       "      <th>4</th>\n",
       "      <td>206</td>\n",
       "      <td>CASH_IN</td>\n",
       "      <td>78172.30</td>\n",
       "      <td>C813403091</td>\n",
       "      <td>2921331.58</td>\n",
       "      <td>2999503.88</td>\n",
       "      <td>C1091768874</td>\n",
       "      <td>415821.90</td>\n",
       "      <td>337649.60</td>\n",
       "      <td>0</td>\n",
       "      <td>0</td>\n",
       "    </tr>\n",
       "  </tbody>\n",
       "</table>\n",
       "</div>"
      ],
      "text/plain": [
       "   step      type      amount     nameOrig  oldbalanceOrg  newbalanceOrig  \\\n",
       "0   278   CASH_IN   330218.42   C632336343       20866.00       351084.42   \n",
       "1    15   PAYMENT    11647.08  C1264712553       30370.00        18722.92   \n",
       "2    10   CASH_IN   152264.21  C1746846248      106589.00       258853.21   \n",
       "3   403  TRANSFER  1551760.63   C333676753           0.00            0.00   \n",
       "4   206   CASH_IN    78172.30   C813403091     2921331.58      2999503.88   \n",
       "\n",
       "      nameDest  oldbalanceDest  newbalanceDest  isFraud  isFlaggedFraud  \n",
       "0   C834976624       452419.57       122201.15        0               0  \n",
       "1   M215391829            0.00            0.00        0               0  \n",
       "2  C1607284477       201303.01        49038.80        0               0  \n",
       "3  C1564353608      3198359.45      4750120.08        0               0  \n",
       "4  C1091768874       415821.90       337649.60        0               0  "
      ]
     },
     "execution_count": 3,
     "metadata": {},
     "output_type": "execute_result"
    }
   ],
   "source": [
    "df.head()"
   ]
  },
  {
   "cell_type": "code",
   "execution_count": 4,
   "metadata": {},
   "outputs": [
    {
     "data": {
      "text/plain": [
       "Index(['step', 'type', 'amount', 'nameOrig', 'oldbalanceOrg', 'newbalanceOrig',\n",
       "       'nameDest', 'oldbalanceDest', 'newbalanceDest', 'isFraud',\n",
       "       'isFlaggedFraud'],\n",
       "      dtype='object')"
      ]
     },
     "execution_count": 4,
     "metadata": {},
     "output_type": "execute_result"
    }
   ],
   "source": [
    "df.columns"
   ]
  },
  {
   "cell_type": "code",
   "execution_count": 5,
   "metadata": {},
   "outputs": [],
   "source": [
    "# Training and evaluating Random Forest model\n",
    "rf_model = RandomForestClassifier(n_estimators=100, random_state=42)\n",
    "rf_model.fit(X_train, y_train)\n",
    "y_pred_rf = rf_model.predict(X_test)\n",
    "accuracy_rf = accuracy_score(y_test, y_pred_rf)\n"
   ]
  },
  {
   "cell_type": "code",
   "execution_count": 6,
   "metadata": {},
   "outputs": [],
   "source": [
    "# Training and evaluating Logistic Regression model\n",
    "log_model = LogisticRegression(max_iter=1000, random_state=42)\n",
    "log_model.fit(X_train, y_train)\n",
    "y_pred_log = log_model.predict(X_test)\n",
    "accuracy_log = accuracy_score(y_test, y_pred_log)"
   ]
  },
  {
   "cell_type": "code",
   "execution_count": 7,
   "metadata": {},
   "outputs": [],
   "source": [
    "# Training and evaluating XGBoost model\n",
    "xgb_model = XGBClassifier(eval_metric='logloss', random_state=42)\n",
    "xgb_model.fit(X_train, y_train)\n",
    "y_pred_xgb = xgb_model.predict(X_test)\n",
    "accuracy_xgb = accuracy_score(y_test, y_pred_xgb)"
   ]
  },
  {
   "cell_type": "code",
   "execution_count": 8,
   "metadata": {},
   "outputs": [
    {
     "name": "stdout",
     "output_type": "stream",
     "text": [
      "Model Performance:\n",
      "Random Forest Accuracy: 99.95%\n",
      "Logistic Regression Accuracy: 99.9325%\n",
      "XGBoost Accuracy: 99.95%\n"
     ]
    }
   ],
   "source": [
    "\n",
    "# Display model accuracies\n",
    "print(\"Model Performance:\")\n",
    "print(f\"Random Forest Accuracy: {accuracy_rf*100}%\")\n",
    "print(f\"Logistic Regression Accuracy: {accuracy_log*100}%\")\n",
    "print(f\"XGBoost Accuracy: {accuracy_xgb*100}%\")"
   ]
  },
  {
   "cell_type": "code",
   "execution_count": 9,
   "metadata": {},
   "outputs": [],
   "source": [
    "# Function to Predict Fraud\n",
    "def predict_fraud(transaction, model):\n",
    "    transaction_df = pd.DataFrame([transaction])\n",
    "    prediction = model.predict(transaction_df)\n",
    "    return \"Fraud\" if prediction[0] == 1 else \"Not Fraud\"\n",
    "\n",
    "# Example Usage\n",
    "example_transaction = {\n",
    "    \"step\": 50,\n",
    "    \"amount\": 5000 ,\n",
    "    \"oldbalanceOrg\": 25000,\n",
    "    \"newbalanceOrig\":  25000,\n",
    "    \"oldbalanceDest\": 50000,\n",
    "    \"newbalanceDest\": 25000\n",
    "}\n",
    "\n",
    "\n"
   ]
  },
  {
   "cell_type": "code",
   "execution_count": 10,
   "metadata": {},
   "outputs": [
    {
     "name": "stdout",
     "output_type": "stream",
     "text": [
      "Prediction for example transaction: Not Fraud\n"
     ]
    }
   ],
   "source": [
    "# Predicting using the best model (based on accuracy)\n",
    "best_model = max([(accuracy_rf, rf_model), (accuracy_log, log_model), (accuracy_xgb, xgb_model)], key=lambda x: x[0])[1]\n",
    "print(\"Prediction for example transaction:\", predict_fraud(example_transaction, best_model))"
   ]
  },
  {
   "cell_type": "code",
   "execution_count": 11,
   "metadata": {},
   "outputs": [
    {
     "name": "stdout",
     "output_type": "stream",
     "text": [
      "\n",
      "===== Model Performance Summary =====\n",
      "Random Forest: 99.9500%\n",
      "Logistic Regression: 99.9325%\n",
      "XGBoost: 99.9500%\n",
      "\n",
      "Best Model: Random Forest with Accuracy: 99.9500%\n"
     ]
    }
   ],
   "source": [
    "# Store model names and their accuracies in a dictionary\n",
    "model_accuracies = {\n",
    "    \"Random Forest\": accuracy_rf*100,\n",
    "    \"Logistic Regression\": accuracy_log*100,\n",
    "    \"XGBoost\": accuracy_xgb*100\n",
    "}\n",
    "\n",
    "# Find the best model\n",
    "best_model_name = max(model_accuracies, key=model_accuracies.get)\n",
    "best_accuracy = model_accuracies[best_model_name]\n",
    "\n",
    "print(\"\\n===== Model Performance Summary =====\")\n",
    "for model, acc in model_accuracies.items():\n",
    "    print(f\"{model}: {acc:.4f}%\")\n",
    "\n",
    "print(f\"\\nBest Model: {best_model_name} with Accuracy: {best_accuracy:.4f}%\")\n"
   ]
  },
  {
   "cell_type": "code",
   "execution_count": 12,
   "metadata": {},
   "outputs": [
    {
     "data": {
      "text/html": [
       "<div>\n",
       "<style scoped>\n",
       "    .dataframe tbody tr th:only-of-type {\n",
       "        vertical-align: middle;\n",
       "    }\n",
       "\n",
       "    .dataframe tbody tr th {\n",
       "        vertical-align: top;\n",
       "    }\n",
       "\n",
       "    .dataframe thead th {\n",
       "        text-align: right;\n",
       "    }\n",
       "</style>\n",
       "<table border=\"1\" class=\"dataframe\">\n",
       "  <thead>\n",
       "    <tr style=\"text-align: right;\">\n",
       "      <th></th>\n",
       "      <th>step</th>\n",
       "      <th>amount</th>\n",
       "      <th>oldbalanceOrg</th>\n",
       "      <th>newbalanceOrig</th>\n",
       "      <th>oldbalanceDest</th>\n",
       "      <th>newbalanceDest</th>\n",
       "      <th>Actual_Label</th>\n",
       "      <th>Predicted_RF</th>\n",
       "      <th>Predicted_Log</th>\n",
       "      <th>Predicted_XGB</th>\n",
       "    </tr>\n",
       "  </thead>\n",
       "  <tbody>\n",
       "    <tr>\n",
       "      <th>0</th>\n",
       "      <td>286</td>\n",
       "      <td>1004.54</td>\n",
       "      <td>5915.0</td>\n",
       "      <td>4910.46</td>\n",
       "      <td>0.00</td>\n",
       "      <td>0.00</td>\n",
       "      <td>0</td>\n",
       "      <td>0</td>\n",
       "      <td>0</td>\n",
       "      <td>0</td>\n",
       "    </tr>\n",
       "    <tr>\n",
       "      <th>1</th>\n",
       "      <td>202</td>\n",
       "      <td>105458.55</td>\n",
       "      <td>0.0</td>\n",
       "      <td>0.00</td>\n",
       "      <td>148402.44</td>\n",
       "      <td>253860.99</td>\n",
       "      <td>0</td>\n",
       "      <td>0</td>\n",
       "      <td>0</td>\n",
       "      <td>0</td>\n",
       "    </tr>\n",
       "    <tr>\n",
       "      <th>2</th>\n",
       "      <td>135</td>\n",
       "      <td>384594.44</td>\n",
       "      <td>126519.0</td>\n",
       "      <td>0.00</td>\n",
       "      <td>513945.83</td>\n",
       "      <td>898540.27</td>\n",
       "      <td>0</td>\n",
       "      <td>0</td>\n",
       "      <td>0</td>\n",
       "      <td>0</td>\n",
       "    </tr>\n",
       "    <tr>\n",
       "      <th>3</th>\n",
       "      <td>300</td>\n",
       "      <td>406869.11</td>\n",
       "      <td>217746.0</td>\n",
       "      <td>624615.11</td>\n",
       "      <td>1697567.50</td>\n",
       "      <td>1290698.39</td>\n",
       "      <td>0</td>\n",
       "      <td>0</td>\n",
       "      <td>0</td>\n",
       "      <td>0</td>\n",
       "    </tr>\n",
       "    <tr>\n",
       "      <th>4</th>\n",
       "      <td>358</td>\n",
       "      <td>6260.37</td>\n",
       "      <td>41886.0</td>\n",
       "      <td>35625.63</td>\n",
       "      <td>0.00</td>\n",
       "      <td>0.00</td>\n",
       "      <td>0</td>\n",
       "      <td>0</td>\n",
       "      <td>0</td>\n",
       "      <td>0</td>\n",
       "    </tr>\n",
       "  </tbody>\n",
       "</table>\n",
       "</div>"
      ],
      "text/plain": [
       "   step     amount  oldbalanceOrg  newbalanceOrig  oldbalanceDest  \\\n",
       "0   286    1004.54         5915.0         4910.46            0.00   \n",
       "1   202  105458.55            0.0            0.00       148402.44   \n",
       "2   135  384594.44       126519.0            0.00       513945.83   \n",
       "3   300  406869.11       217746.0       624615.11      1697567.50   \n",
       "4   358    6260.37        41886.0        35625.63            0.00   \n",
       "\n",
       "   newbalanceDest  Actual_Label  Predicted_RF  Predicted_Log  Predicted_XGB  \n",
       "0            0.00             0             0              0              0  \n",
       "1       253860.99             0             0              0              0  \n",
       "2       898540.27             0             0              0              0  \n",
       "3      1290698.39             0             0              0              0  \n",
       "4            0.00             0             0              0              0  "
      ]
     },
     "execution_count": 12,
     "metadata": {},
     "output_type": "execute_result"
    }
   ],
   "source": [
    "prediction = pd.read_csv('predictions.csv')\n",
    "prediction.head(5)"
   ]
  },
  {
   "cell_type": "code",
   "execution_count": 13,
   "metadata": {},
   "outputs": [
    {
     "data": {
      "text/html": [
       "<div>\n",
       "<style scoped>\n",
       "    .dataframe tbody tr th:only-of-type {\n",
       "        vertical-align: middle;\n",
       "    }\n",
       "\n",
       "    .dataframe tbody tr th {\n",
       "        vertical-align: top;\n",
       "    }\n",
       "\n",
       "    .dataframe thead th {\n",
       "        text-align: right;\n",
       "    }\n",
       "</style>\n",
       "<table border=\"1\" class=\"dataframe\">\n",
       "  <thead>\n",
       "    <tr style=\"text-align: right;\">\n",
       "      <th></th>\n",
       "      <th>Model</th>\n",
       "      <th>Accuracy</th>\n",
       "    </tr>\n",
       "  </thead>\n",
       "  <tbody>\n",
       "    <tr>\n",
       "      <th>0</th>\n",
       "      <td>Random Forest</td>\n",
       "      <td>0.999500</td>\n",
       "    </tr>\n",
       "    <tr>\n",
       "      <th>1</th>\n",
       "      <td>Logistic Regression</td>\n",
       "      <td>0.999325</td>\n",
       "    </tr>\n",
       "    <tr>\n",
       "      <th>2</th>\n",
       "      <td>XGBoost</td>\n",
       "      <td>0.999500</td>\n",
       "    </tr>\n",
       "  </tbody>\n",
       "</table>\n",
       "</div>"
      ],
      "text/plain": [
       "                 Model  Accuracy\n",
       "0        Random Forest  0.999500\n",
       "1  Logistic Regression  0.999325\n",
       "2              XGBoost  0.999500"
      ]
     },
     "execution_count": 13,
     "metadata": {},
     "output_type": "execute_result"
    }
   ],
   "source": [
    "mp = pd.read_csv('model_performance.csv')\n",
    "mp.head()\n"
   ]
  },
  {
   "cell_type": "code",
   "execution_count": 14,
   "metadata": {},
   "outputs": [
    {
     "name": "stdout",
     "output_type": "stream",
     "text": [
      "\n",
      "Random Forest Performance:\n",
      "Training Accuracy: 99.9994%\n",
      "Testing Accuracy: 99.9500%\n",
      "Random Forest is **Balanced**\n",
      "\n",
      "Logistic Regression Performance:\n",
      "Training Accuracy: 99.9456%\n",
      "Testing Accuracy: 99.9325%\n",
      "Logistic Regression is **Balanced**\n",
      "\n",
      "XGBoost Performance:\n",
      "Training Accuracy: 99.9925%\n",
      "Testing Accuracy: 99.9500%\n",
      "XGBoost is **Balanced**\n"
     ]
    }
   ],
   "source": [
    "# Function to check overfitting/underfitting\n",
    "def check_overfitting(model, X_train, X_test, y_train, y_test, model_name):\n",
    "    # Ensure only the original training features are used\n",
    "    X_train = X_train[features]\n",
    "    X_test = X_test[features]\n",
    "\n",
    "    train_pred = model.predict(X_train)\n",
    "    test_pred = model.predict(X_test)\n",
    "\n",
    "    train_acc = accuracy_score(y_train, train_pred)\n",
    "    test_acc = accuracy_score(y_test, test_pred)\n",
    "\n",
    "    print(f\"\\n{model_name} Performance:\")\n",
    "    print(f\"Training Accuracy: {train_acc*100:.4f}%\")\n",
    "    print(f\"Testing Accuracy: {test_acc*100:.4f}%\")\n",
    "\n",
    "    if train_acc > test_acc + 0.05:  # Large gap = Overfitting\n",
    "        print(f\"{model_name} is **Overfitting** (Training > Testing by {train_acc - test_acc:.4f})\")\n",
    "    elif train_acc < test_acc - 0.05:  # Large gap = Underfitting\n",
    "        print(f\"{model_name} is **Underfitting** (Testing > Training by {test_acc - train_acc:.4f})\")\n",
    "    else:\n",
    "        print(f\"{model_name} is **Balanced**\")\n",
    "\n",
    "# Run Overfitting Check for Each Model\n",
    "check_overfitting(rf_model, X_train, X_test, y_train, y_test, \"Random Forest\")\n",
    "check_overfitting(log_model, X_train, X_test, y_train, y_test, \"Logistic Regression\")\n",
    "check_overfitting(xgb_model, X_train, X_test, y_train, y_test, \"XGBoost\")\n"
   ]
  },
  {
   "cell_type": "code",
   "execution_count": 15,
   "metadata": {},
   "outputs": [
    {
     "name": "stdout",
     "output_type": "stream",
     "text": [
      "Note: you may need to restart the kernel to use updated packages.\n"
     ]
    }
   ],
   "source": [
    "pip freeze > requirements.txt"
   ]
  }
 ],
 "metadata": {
  "kernelspec": {
   "display_name": "Python 3",
   "language": "python",
   "name": "python3"
  },
  "language_info": {
   "codemirror_mode": {
    "name": "ipython",
    "version": 3
   },
   "file_extension": ".py",
   "mimetype": "text/x-python",
   "name": "python",
   "nbconvert_exporter": "python",
   "pygments_lexer": "ipython3",
   "version": "3.12.3"
  }
 },
 "nbformat": 4,
 "nbformat_minor": 2
}
